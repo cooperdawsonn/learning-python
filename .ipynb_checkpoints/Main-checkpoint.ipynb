{
 "cells": [
  {
   "cell_type": "markdown",
   "metadata": {},
   "source": [
    "# Lets load in some ephys data and create a plot of it."
   ]
  },
  {
   "cell_type": "code",
   "execution_count": 3,
   "metadata": {
    "collapsed": false
   },
   "outputs": [
    {
     "name": "stdout",
     "output_type": "stream",
     "text": [
      "Modules loaded!\n"
     ]
    }
   ],
   "source": [
    "# The following import commands are modules that have helpful functions. \n",
    "import numpy as np\n",
    "import matplotlib.pyplot as plt\n",
    "import time\n",
    "import scipy\n",
    "import os\n",
    "print('Modules loaded!')"
   ]
  },
  {
   "cell_type": "code",
   "execution_count": 2,
   "metadata": {
    "collapsed": false
   },
   "outputs": [
    {
     "name": "stdout",
     "output_type": "stream",
     "text": [
      "Loading continuous data...\n",
      "data loaded in!\n"
     ]
    }
   ],
   "source": [
    "# Load in the data using the program provided by OpenEphys. \n",
    "# This takes a little bit so wait for the star to disappear to the right\n",
    "import OpenEphys\n",
    "\n",
    "cwd = os.getcwd() # Gets your current working directory\n",
    "\n",
    "pathToData = cwd + '\\\\data\\\\Sample_Data\\\\100_CH1.continuous' # You can change this to look at other channels!\n",
    " \n",
    "data = OpenEphys.load(pathToData)\n",
    "print('data loaded in!')"
   ]
  },
  {
   "cell_type": "markdown",
   "metadata": {},
   "source": [
    "## Now that we've loaded the data in. Let's look at what we can do with it."
   ]
  },
  {
   "cell_type": "code",
   "execution_count": 4,
   "metadata": {
    "collapsed": false
   },
   "outputs": [
    {
     "name": "stdout",
     "output_type": "stream",
     "text": [
      "('The Sampling rate is :', u'30000')\n",
      "('Sample rate is type :', <type 'unicode'>)\n"
     ]
    }
   ],
   "source": [
    "# Lets check out what we got\n",
    "print(\"The Sampling rate is :\", data['header']['sampleRate'])\n",
    "\n",
    "# There is a problem. The sampling rate is of type string(unicode) even though we need it to be a float...\n",
    "print(\"Sample rate is type :\", type(data['header']['sampleRate']))"
   ]
  },
  {
   "cell_type": "code",
   "execution_count": 7,
   "metadata": {
    "collapsed": false
   },
   "outputs": [
    {
     "name": "stdout",
     "output_type": "stream",
     "text": [
      "('The Sampling rate is still :', 30000.0)\n",
      "('But the type is now :', <type 'float'>)\n",
      "Notice the precision changed. It's now 30000.0!\n"
     ]
    }
   ],
   "source": [
    "# So lets change it!\n",
    "sampleRate = float(data['header']['sampleRate'])\n",
    "print(\"The Sampling rate is still :\", sampleRate)\n",
    "print(\"But the type is now :\", type(sampleRate))\n",
    "print('Notice the precision changed. It\\'s now 30000.0!')"
   ]
  },
  {
   "cell_type": "code",
   "execution_count": 9,
   "metadata": {
    "collapsed": false
   },
   "outputs": [
    {
     "name": "stdout",
     "output_type": "stream",
     "text": [
      "('Still the same sampling rate : ', 30000)\n",
      "('But now the type is : ', <type 'int'>)\n",
      "And once again the precision has changed!\n"
     ]
    }
   ],
   "source": [
    "# Compare this to an int?\n",
    "sampleRate = int(sampleRate)\n",
    "print('Still the same sampling rate : ', sampleRate)\n",
    "print('But now the type is : ', type(sampleRate))\n",
    "print('And once again the precision has changed!')"
   ]
  },
  {
   "cell_type": "code",
   "execution_count": 10,
   "metadata": {
    "collapsed": false
   },
   "outputs": [
    {
     "name": "stdout",
     "output_type": "stream",
     "text": [
      "('Number of data points :', 36165632)\n",
      "('Number of timestamps :', 35318)\n",
      "('Number of data samples per timestamp', 1024)\n"
     ]
    }
   ],
   "source": [
    "# The data is a little longer so we won't print it out. We can look at how many values are stored though.\n",
    "print('Number of data points :', len(data['data']))\n",
    "# The timestamps have a different number of values because there is only 1 timestamp per 1024 data samples.\n",
    "# This is taken care of for you in the next step so don't worry about it.\n",
    "print('Number of timestamps :', len(data['timestamps']))\n",
    "\n",
    "dataPerTs = len(data['data'])/len(data['timestamps'])\n",
    "print('Number of data samples per timestamp', dataPerTs)"
   ]
  },
  {
   "cell_type": "markdown",
   "metadata": {},
   "source": [
    "### Con is a class that takes in the ephys info and puts it into a easy to use object. Classes are very good ways of holding connected datas together.\n",
    "\n",
    "Don't worry about what it does. Just know what we get from it.\n",
    "\n",
    "The ephys information can now be found by the following:\n",
    "\n",
    "#### conData.data holds the voltage at each timestamp\n",
    "\n",
    "#### conData.ts holds the timestamps\n",
    "\n",
    "#### conData.fs holds the sampling rate (how many samples per second)"
   ]
  },
  {
   "cell_type": "code",
   "execution_count": 11,
   "metadata": {
    "collapsed": true
   },
   "outputs": [],
   "source": [
    "class Con:\n",
    "    def __init__(self, data):\n",
    "        self.data = data['data'] # Volatage data\n",
    "        self.fs = float(data['header']['sampleRate']) # Sample Rate\n",
    "        self.interpTs(data['timestamps']) # Interpolate timestamps for all data points (Only has 1 time stamp for each buffer of 1024 data points)\n",
    "\n",
    "    def interpTs(self, ts):\n",
    "        tsStart = ts[0]\n",
    "        tsEnd = ts[len(ts)-1]\n",
    "        self.ts = np.linspace(tsStart, tsEnd, len(ts) * 1024) # Creates the array of timestamps\n",
    "        i = 0\n",
    "        for t in self.ts:\n",
    "            self.ts[i] = t - tsStart # Zero out the timestamps, just makes it look better when graphing/explaining\n",
    "            i = i + 1\n",
    "        self.tsStart = tsStart # Send the ts start to event data\n",
    "        \n",
    "con = Con(data)"
   ]
  },
  {
   "cell_type": "markdown",
   "metadata": {},
   "source": [
    "## Lets make a very simple plot"
   ]
  },
  {
   "cell_type": "code",
   "execution_count": 12,
   "metadata": {
    "collapsed": false
   },
   "outputs": [
    {
     "data": {
      "image/png": "[encoded data removed]",
      "text/plain": [
       "<matplotlib.figure.Figure at 0x83e8fd0>"
      ]
     },
     "metadata": {},
     "output_type": "display_data"
    }
   ],
   "source": [
    "plt.plot(con.ts,con.data, 'r') # This also takes a bit as there is a lot of data.\n",
    "# Now you have a plot of every voltage for every sample in the recording.\n",
    "plt.show()"
   ]
  },
  {
   "cell_type": "code",
   "execution_count": 13,
   "metadata": {
    "collapsed": false
   },
   "outputs": [
    {
     "data": {
      "image/png": "[encoded data removed]",
      "text/plain": [
       "<matplotlib.figure.Figure at 0x8401320>"
      ]
     },
     "metadata": {},
     "output_type": "display_data"
    }
   ],
   "source": [
    "# Now lets get only the first 10 seconds of data, we'll use the sampling rate we saved before\n",
    "timeElapsed = int(10 * con.fs) # Feel free to change the 1 to as many seconds as you (needs to be an integer for later)\n",
    "timeStart = int(0 * con.fs) # Where do you want to start (0 is the start, can change to be as many seconds after as you want)\n",
    "timeEnd = timeElapsed + timeStart # We need what timestamp the end is. It is the start index + how many have elapsed over 10 sec\n",
    "plt.plot(con.ts[timeStart:timeEnd], con.data[timeStart:timeEnd], 'r') # [startIndex:endIndex]\n",
    "plt.show()"
   ]
  },
  {
   "cell_type": "markdown",
   "metadata": {},
   "source": [
    "# Now time for you to try some programming yourself.\n",
    "\n",
    "## First challenge\n",
    "\n",
    "Use a for loop to iterate through the data points and plot a vertical line when the voltage goes above 500."
   ]
  },
  {
   "cell_type": "code",
   "execution_count": null,
   "metadata": {
    "collapsed": false
   },
   "outputs": [],
   "source": [
    "timeElapsed = int(10 * con.fs) # Feel free to change the 1 to as many seconds as you (needs to be an integer for later)\n",
    "timeStart = int(0 * con.fs) # Where do you want to start (0 is the start, can change to be as many seconds after as you want)\n",
    "timeEnd = timeElapsed + timeStart # We need what timestamp the end is. It is the start index + how many have elapsed over 10 sec\n",
    "# Put code here!\n",
    "# use matplotlib to create a vertical line (hint: use google!)\n",
    "\n",
    "plt.plot(con.ts[timeStart:timeEnd], con.data[timeStart:timeEnd], 'r') \n",
    "plt.show()"
   ]
  },
  {
   "cell_type": "markdown",
   "metadata": {},
   "source": [
    "## Second challenge\n",
    "\n",
    "Plot a horizontal line at the average value for the data."
   ]
  },
  {
   "cell_type": "code",
   "execution_count": null,
   "metadata": {
    "collapsed": true
   },
   "outputs": [],
   "source": [
    "# Put code here!\n",
    "\n",
    "plt.plot(con.ts[timeStart:timeEnd], con.data[timeStart:timeEnd], 'r') \n",
    "# use matplotlib to create a horizontal line (hint: use google!)\n",
    "\n",
    "plt.show()"
   ]
  },
  {
   "cell_type": "markdown",
   "metadata": {},
   "source": [
    "## Third challenge\n",
    "\n",
    "Use the butter function from scipys signal library to create a bandpass filter to extract only the theta band (4-8hz)! If you want, writing a few functions may help you and be good practice. \n",
    "\n",
    "Use google to understand how to use butter. Examples are very helpful!"
   ]
  },
  {
   "cell_type": "code",
   "execution_count": null,
   "metadata": {
    "collapsed": true
   },
   "outputs": [],
   "source": [
    "# If you want to use functions write them here."
   ]
  },
  {
   "cell_type": "code",
   "execution_count": null,
   "metadata": {
    "collapsed": false
   },
   "outputs": [],
   "source": [
    "from scipy import signal \n",
    "# Hints!\n",
    "# butter function can be accessed by signal.butter\n",
    "# You will also need to use lfilter function which is included in the signal library. \n",
    "# Use a filter order of 2\n",
    "# You will also need to normalize your band that you want to extract\n",
    "#   by the nyquist frequency\n",
    "\n",
    "\n",
    "# Put code here\n",
    "\n",
    "plt.plot(con.ts[timeStart:timeEnd], filteredData[timeStart:timeEnd], 'r')\n",
    "plt.show()"
   ]
  }
 ],
 "metadata": {
  "anaconda-cloud": {},
  "kernelspec": {
   "display_name": "Python [conda root]",
   "language": "python",
   "name": "conda-root-py"
  },
  "language_info": {
   "codemirror_mode": {
    "name": "ipython",
    "version": 2
   },
   "file_extension": ".py",
   "mimetype": "text/x-python",
   "name": "python",
   "nbconvert_exporter": "python",
   "pygments_lexer": "ipython2",
   "version": "2.7.12"
  }
 },
 "nbformat": 4,
 "nbformat_minor": 2
}
